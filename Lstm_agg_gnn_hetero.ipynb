{
  "nbformat": 4,
  "nbformat_minor": 0,
  "metadata": {
    "colab": {
      "provenance": [],
      "toc_visible": true,
      "authorship_tag": "ABX9TyNDilHVc9r7ojxiArCTPvba",
      "include_colab_link": true
    },
    "kernelspec": {
      "name": "python3",
      "display_name": "Python 3"
    },
    "language_info": {
      "name": "python"
    }
  },
  "cells": [
    {
      "cell_type": "markdown",
      "metadata": {
        "id": "view-in-github",
        "colab_type": "text"
      },
      "source": [
        "<a href=\"https://colab.research.google.com/github/kai5gabriel/code_snippets/blob/main/Lstm_agg_gnn_hetero.ipynb\" target=\"_parent\"><img src=\"https://colab.research.google.com/assets/colab-badge.svg\" alt=\"Open In Colab\"/></a>"
      ]
    },
    {
      "cell_type": "code",
      "execution_count": 1,
      "metadata": {
        "colab": {
          "base_uri": "https://localhost:8080/"
        },
        "id": "LxDFe_pwDV7A",
        "outputId": "6c05bcf1-5ccb-4870-dd8d-0d2857b16993"
      },
      "outputs": [
        {
          "output_type": "stream",
          "name": "stdout",
          "text": [
            "Requirement already satisfied: torch in /usr/local/lib/python3.10/dist-packages (2.5.1+cu121)\n",
            "Collecting torch_geometric\n",
            "  Downloading torch_geometric-2.6.1-py3-none-any.whl.metadata (63 kB)\n",
            "\u001b[2K     \u001b[90m━━━━━━━━━━━━━━━━━━━━━━━━━━━━━━━━━━━━━━━━\u001b[0m \u001b[32m63.1/63.1 kB\u001b[0m \u001b[31m1.7 MB/s\u001b[0m eta \u001b[36m0:00:00\u001b[0m\n",
            "\u001b[?25hRequirement already satisfied: filelock in /usr/local/lib/python3.10/dist-packages (from torch) (3.16.1)\n",
            "Requirement already satisfied: typing-extensions>=4.8.0 in /usr/local/lib/python3.10/dist-packages (from torch) (4.12.2)\n",
            "Requirement already satisfied: networkx in /usr/local/lib/python3.10/dist-packages (from torch) (3.4.2)\n",
            "Requirement already satisfied: jinja2 in /usr/local/lib/python3.10/dist-packages (from torch) (3.1.4)\n",
            "Requirement already satisfied: fsspec in /usr/local/lib/python3.10/dist-packages (from torch) (2024.10.0)\n",
            "Requirement already satisfied: sympy==1.13.1 in /usr/local/lib/python3.10/dist-packages (from torch) (1.13.1)\n",
            "Requirement already satisfied: mpmath<1.4,>=1.1.0 in /usr/local/lib/python3.10/dist-packages (from sympy==1.13.1->torch) (1.3.0)\n",
            "Requirement already satisfied: aiohttp in /usr/local/lib/python3.10/dist-packages (from torch_geometric) (3.11.10)\n",
            "Requirement already satisfied: numpy in /usr/local/lib/python3.10/dist-packages (from torch_geometric) (1.26.4)\n",
            "Requirement already satisfied: psutil>=5.8.0 in /usr/local/lib/python3.10/dist-packages (from torch_geometric) (5.9.5)\n",
            "Requirement already satisfied: pyparsing in /usr/local/lib/python3.10/dist-packages (from torch_geometric) (3.2.0)\n",
            "Requirement already satisfied: requests in /usr/local/lib/python3.10/dist-packages (from torch_geometric) (2.32.3)\n",
            "Requirement already satisfied: tqdm in /usr/local/lib/python3.10/dist-packages (from torch_geometric) (4.67.1)\n",
            "Requirement already satisfied: aiohappyeyeballs>=2.3.0 in /usr/local/lib/python3.10/dist-packages (from aiohttp->torch_geometric) (2.4.4)\n",
            "Requirement already satisfied: aiosignal>=1.1.2 in /usr/local/lib/python3.10/dist-packages (from aiohttp->torch_geometric) (1.3.2)\n",
            "Requirement already satisfied: async-timeout<6.0,>=4.0 in /usr/local/lib/python3.10/dist-packages (from aiohttp->torch_geometric) (4.0.3)\n",
            "Requirement already satisfied: attrs>=17.3.0 in /usr/local/lib/python3.10/dist-packages (from aiohttp->torch_geometric) (24.3.0)\n",
            "Requirement already satisfied: frozenlist>=1.1.1 in /usr/local/lib/python3.10/dist-packages (from aiohttp->torch_geometric) (1.5.0)\n",
            "Requirement already satisfied: multidict<7.0,>=4.5 in /usr/local/lib/python3.10/dist-packages (from aiohttp->torch_geometric) (6.1.0)\n",
            "Requirement already satisfied: propcache>=0.2.0 in /usr/local/lib/python3.10/dist-packages (from aiohttp->torch_geometric) (0.2.1)\n",
            "Requirement already satisfied: yarl<2.0,>=1.17.0 in /usr/local/lib/python3.10/dist-packages (from aiohttp->torch_geometric) (1.18.3)\n",
            "Requirement already satisfied: MarkupSafe>=2.0 in /usr/local/lib/python3.10/dist-packages (from jinja2->torch) (3.0.2)\n",
            "Requirement already satisfied: charset-normalizer<4,>=2 in /usr/local/lib/python3.10/dist-packages (from requests->torch_geometric) (3.4.0)\n",
            "Requirement already satisfied: idna<4,>=2.5 in /usr/local/lib/python3.10/dist-packages (from requests->torch_geometric) (3.10)\n",
            "Requirement already satisfied: urllib3<3,>=1.21.1 in /usr/local/lib/python3.10/dist-packages (from requests->torch_geometric) (2.2.3)\n",
            "Requirement already satisfied: certifi>=2017.4.17 in /usr/local/lib/python3.10/dist-packages (from requests->torch_geometric) (2024.12.14)\n",
            "Downloading torch_geometric-2.6.1-py3-none-any.whl (1.1 MB)\n",
            "\u001b[2K   \u001b[90m━━━━━━━━━━━━━━━━━━━━━━━━━━━━━━━━━━━━━━━━\u001b[0m \u001b[32m1.1/1.1 MB\u001b[0m \u001b[31m17.1 MB/s\u001b[0m eta \u001b[36m0:00:00\u001b[0m\n",
            "\u001b[?25hInstalling collected packages: torch_geometric\n",
            "Successfully installed torch_geometric-2.6.1\n"
          ]
        }
      ],
      "source": [
        "!pip install torch torch_geometric\n"
      ]
    },
    {
      "cell_type": "code",
      "source": [
        "import torch\n",
        "import torch.nn.functional as F\n",
        "from torch_geometric.nn import HeteroConv, SAGEConv, Linear, LSTMAggregation\n",
        "from torch_geometric.data import HeteroData\n",
        "import matplotlib.pyplot as plt\n",
        "\n",
        "# Check if CUDA is available\n",
        "device = torch.device('cuda' if torch.cuda.is_available() else 'cpu')\n",
        "print(f\"Using device: {device}\")\n",
        "\n",
        "def sort_edge_index(data):\n",
        "    for edge_type in data.edge_types:\n",
        "        edge_index = data[edge_type].edge_index\n",
        "        _, sorted_idx = edge_index[1].sort()\n",
        "        data[edge_type].edge_index = edge_index[:, sorted_idx]\n",
        "    return data\n",
        "\n",
        "num_features = 10  # Choose a consistent feature size\n",
        "def create_sample_data():\n",
        "    data = HeteroData()\n",
        "\n",
        "\n",
        "    # Create node features for each node type with the same size\n",
        "    data['A'].x = torch.randn(100, num_features)\n",
        "    data['B'].x = torch.randn(80, num_features)\n",
        "    data['C'].x = torch.randn(120, num_features)\n",
        "    data['D'].x = torch.randn(90, num_features)\n",
        "\n",
        "\n",
        "    # Create edge indices for different edge types\n",
        "    data['A', 'to', 'B'].edge_index = torch.stack([torch.randint(0, 100, (300,)), torch.randint(0, 80, (300,))])\n",
        "    data['B', 'to', 'C'].edge_index = torch.stack([torch.randint(0, 80, (250,)), torch.randint(0, 120, (250,))])\n",
        "    data['C', 'to', 'D'].edge_index = torch.stack([torch.randint(0, 120, (350,)), torch.randint(0, 90, (350,))])\n",
        "    data['D', 'to', 'A'].edge_index = torch.stack([torch.randint(0, 90, (280,)), torch.randint(0, 100, (280,))])\n",
        "\n",
        "    # Create random target values for each node type\n",
        "    data['A'].y = torch.randint(0, 2, (100,))\n",
        "    data['B'].y = torch.randint(0, 2, (80,))\n",
        "    data['C'].y = torch.randint(0, 2, (120,))\n",
        "    data['D'].y = torch.randint(0, 2, (90,))\n",
        "\n",
        "    return sort_edge_index(data)\n",
        "\n",
        "# Create sample data\n",
        "hetero_data = create_sample_data()\n",
        "print(hetero_data)\n",
        "\n",
        "class GNN(torch.nn.Module):\n",
        "    def __init__(self, in_channels, hidden_channels, out_channels, metadata):\n",
        "        super().__init__()\n",
        "\n",
        "        self.lin1 = torch.nn.ModuleDict()\n",
        "\n",
        "        for node_type in metadata[0]:\n",
        "            self.lin1[node_type] = Linear(in_channels, hidden_channels)\n",
        "\n",
        "        self.conv1 = HeteroConv({\n",
        "            edge_type: SAGEConv((hidden_channels, hidden_channels),\n",
        "                                hidden_channels,\n",
        "                                aggr=LSTMAggregation(hidden_channels, hidden_channels))\n",
        "            for edge_type in metadata[1]\n",
        "        })\n",
        "\n",
        "        self.conv2 = HeteroConv({\n",
        "            edge_type: SAGEConv((hidden_channels, hidden_channels),\n",
        "                                hidden_channels,\n",
        "                                aggr=LSTMAggregation(hidden_channels, hidden_channels))\n",
        "            for edge_type in metadata[1]\n",
        "        })\n",
        "\n",
        "        self.linear = torch.nn.ModuleDict({\n",
        "            node_type: Linear(hidden_channels, out_channels)\n",
        "            for node_type in metadata[0]\n",
        "        })\n",
        "\n",
        "    def forward(self, x_dict, edge_index_dict):\n",
        "        x_dict = {key: self.lin1[key](x) for key, x in x_dict.items()}\n",
        "        x_dict = self.conv1(x_dict, edge_index_dict)\n",
        "        x_dict = {key: x.relu() for key, x in x_dict.items()}\n",
        "        x_dict = self.conv2(x_dict, edge_index_dict)\n",
        "        x_dict = {key: x.relu() for key, x in x_dict.items()}\n",
        "        x_dict = {key: self.linear[key](x) for key, x in x_dict.items()}\n",
        "        return x_dict\n",
        "\n",
        "# Create the model\n",
        "in_channels = num_features  # All nodes have the same feature size\n",
        "model = GNN(in_channels, hidden_channels=64, out_channels=2, metadata=hetero_data.metadata())\n",
        "model = model.to(device)\n",
        "\n",
        "def train(model, data, optimizer, criterion):\n",
        "    model.train()\n",
        "    optimizer.zero_grad()\n",
        "    out_dict = model(data.x_dict, data.edge_index_dict)\n",
        "\n",
        "    loss = 0\n",
        "    for node_type in data.node_types:\n",
        "        loss += criterion(out_dict[node_type], data[node_type].y)\n",
        "\n",
        "    loss.backward()\n",
        "    optimizer.step()\n",
        "    return loss.item()\n",
        "\n",
        "optimizer = torch.optim.Adam(model.parameters(), lr=0.01)\n",
        "criterion = torch.nn.CrossEntropyLoss()\n",
        "\n",
        "hetero_data = hetero_data.to(device)\n",
        "\n",
        "num_epochs = 100\n",
        "losses = []\n",
        "\n",
        "for epoch in range(num_epochs):\n",
        "    loss = train(model, hetero_data, optimizer, criterion)\n",
        "    losses.append(loss)\n",
        "    if (epoch + 1) % 10 == 0:\n",
        "        print(f'Epoch {epoch+1}/{num_epochs}, Loss: {loss:.4f}')\n",
        "\n",
        "plt.figure(figsize=(10, 5))\n",
        "plt.plot(losses)\n",
        "plt.title('Training Loss')\n",
        "plt.xlabel('Epoch')\n",
        "plt.ylabel('Loss')\n",
        "plt.show()\n",
        "\n",
        "model.eval()\n",
        "with torch.no_grad():\n",
        "    out = model(hetero_data.x_dict, hetero_data.edge_index_dict)\n",
        "\n",
        "print(\"\\nFinal output shapes:\")\n",
        "for node_type, node_out in out.items():\n",
        "    print(f\"{node_type}: {node_out.shape}\")\n"
      ],
      "metadata": {
        "colab": {
          "base_uri": "https://localhost:8080/",
          "height": 1000
        },
        "id": "lt3elgSeFDSy",
        "outputId": "347fed19-608b-4f74-bf4f-9cfe19e329d7"
      },
      "execution_count": 29,
      "outputs": [
        {
          "output_type": "stream",
          "name": "stdout",
          "text": [
            "Using device: cpu\n",
            "HeteroData(\n",
            "  A={\n",
            "    x=[100, 10],\n",
            "    y=[100],\n",
            "  },\n",
            "  B={\n",
            "    x=[80, 10],\n",
            "    y=[80],\n",
            "  },\n",
            "  C={\n",
            "    x=[120, 10],\n",
            "    y=[120],\n",
            "  },\n",
            "  D={\n",
            "    x=[90, 10],\n",
            "    y=[90],\n",
            "  },\n",
            "  (A, to, B)={ edge_index=[2, 300] },\n",
            "  (B, to, C)={ edge_index=[2, 250] },\n",
            "  (C, to, D)={ edge_index=[2, 350] },\n",
            "  (D, to, A)={ edge_index=[2, 280] }\n",
            ")\n",
            "Epoch 10/100, Loss: 1.1198\n",
            "Epoch 20/100, Loss: 0.0577\n",
            "Epoch 30/100, Loss: 0.0017\n",
            "Epoch 40/100, Loss: 0.0003\n",
            "Epoch 50/100, Loss: 0.0001\n",
            "Epoch 60/100, Loss: 0.0000\n",
            "Epoch 70/100, Loss: 0.0000\n",
            "Epoch 80/100, Loss: 0.0000\n",
            "Epoch 90/100, Loss: 0.0000\n",
            "Epoch 100/100, Loss: 0.0000\n"
          ]
        },
        {
          "output_type": "display_data",
          "data": {
            "text/plain": [
              "<Figure size 1000x500 with 1 Axes>"
            ],
            "image/png": "[encoded data removed]"
          },
          "metadata": {}
        },
        {
          "output_type": "stream",
          "name": "stdout",
          "text": [
            "\n",
            "Final output shapes:\n",
            "B: torch.Size([80, 2])\n",
            "C: torch.Size([120, 2])\n",
            "D: torch.Size([90, 2])\n",
            "A: torch.Size([100, 2])\n"
          ]
        }
      ]
    },
    {
      "cell_type": "code",
      "source": [],
      "metadata": {
        "id": "wDHEbxZnFk8x"
      },
      "execution_count": null,
      "outputs": []
    }
  ]
}